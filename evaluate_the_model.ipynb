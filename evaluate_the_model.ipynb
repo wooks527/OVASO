{
 "cells": [
  {
   "source": [
    "# Evalute OVASO"
   ],
   "cell_type": "markdown",
   "metadata": {}
  },
  {
   "cell_type": "code",
   "execution_count": 1,
   "metadata": {},
   "outputs": [],
   "source": [
    "import torch\n",
    "import pandas as pd\n",
    "import numpy as np\n",
    "import time\n",
    "import os\n",
    "import random\n",
    "import matplotlib.pyplot as plt\n",
    "\n",
    "from datasets.utils import get_dataloaders\n",
    "from models.model import get_model, eval_model\n",
    "from models.utils import set_random_seed"
   ]
  },
  {
   "cell_type": "markdown",
   "metadata": {},
   "source": [
    "## Set parameters"
   ]
  },
  {
   "cell_type": "code",
   "execution_count": 2,
   "metadata": {},
   "outputs": [],
   "source": [
    "val_dir = './data/CXR/test/'\n",
    "model_dir = './trained_models/'\n",
    "out_dir = './results'"
   ]
  },
  {
   "cell_type": "code",
   "execution_count": 3,
   "metadata": {},
   "outputs": [],
   "source": [
    "batch_size = 16\n",
    "random_seed = 0"
   ]
  },
  {
   "cell_type": "code",
   "execution_count": 4,
   "metadata": {},
   "outputs": [],
   "source": [
    "set_random_seed(random_seed)"
   ]
  },
  {
   "cell_type": "markdown",
   "metadata": {},
   "source": [
    "## Get data loaders"
   ]
  },
  {
   "cell_type": "code",
   "execution_count": 5,
   "metadata": {},
   "outputs": [
    {
     "output_type": "stream",
     "name": "stdout",
     "text": [
      "Validation dataset size: 300\n['covid-19', 'normal', 'pneumonia']\n######### Validation Dataset #########\ncovid-19 size: 100\nnormal size: 100\npneumonia size: 100\n"
     ]
    }
   ],
   "source": [
    "dataloaders = get_dataloaders(val_dir, batch_size)"
   ]
  },
  {
   "cell_type": "markdown",
   "metadata": {},
   "source": [
    "## Evaluate the model"
   ]
  },
  {
   "cell_type": "code",
   "execution_count": 7,
   "metadata": {},
   "outputs": [
    {
     "output_type": "stream",
     "name": "stdout",
     "text": [
      "--------------------------------------- \n",
      "\n",
      "Evaluation Result\n",
      "----------\n",
      "Val Acc: 0.9533\n",
      "\n",
      "데이터셋A: 300\n",
      "Covid Recall: 93.0\n",
      "Covid Precision: 98.94\n",
      "Covid ACC: 97.33000000000001\n",
      "Covid F1 score: 95.88\n",
      "\n",
      "데이터셋B: 300\n",
      "Normal Recall: 97.0\n",
      "Normal Precision: 91.51\n",
      "Normal ACC: 96.0\n",
      "Normal F1 score: 94.18\n",
      "\n",
      "데이터셋C: 300\n",
      "Pneumonia Recall: 96.0\n",
      "Pneumonia Precision: 96.0\n",
      "Pneumonia ACC: 97.33000000000001\n",
      "Pneumonia F1 score: 96.0\n",
      "Training complete in 0m 16s\n"
     ]
    }
   ],
   "source": [
    "device = torch.device(\"cuda:0\" if torch.cuda.is_available() else \"cpu\")\n",
    "# mtype = 'MOVR'\n",
    "mtype = 'OVR'\n",
    "\n",
    "best_preds_dict, best_confidence_weights = None, None\n",
    "best_acc, best_covid_threshold = 0.0, 0.0\n",
    "if mtype == 'OVR':\n",
    "    covid_ft, normal_ft, pneumonia_ft, \\\n",
    "    cov_nor_ft, cov_pneu_ft, nor_pneu_ft, criterion = \\\n",
    "        get_model(model_dir, device, mtype)\n",
    "    preds_dict, acc = eval_model(dataloaders=dataloaders,\n",
    "                                 covid_model=covid_ft,\n",
    "                                 normal_model=normal_ft,\n",
    "                                 pneumonia_model=pneumonia_ft,\n",
    "                                 cov_nor_model=cov_nor_ft,\n",
    "                                 cov_pneu_model=cov_pneu_ft,\n",
    "                                 nor_pneu_model=nor_pneu_ft,\n",
    "                                 criterion=criterion,\n",
    "                                 batch_size=batch_size,\n",
    "                                 device=device,\n",
    "                                 out_dir=out_dir,\n",
    "                                 mtype=mtype)\n",
    "else: # Previous OVR\n",
    "    covid_ft, nor_pneu_ft, criterion = get_model(model_dir, device, mtype)\n",
    "    preds_dict, acc = eval_model(dataloaders=dataloaders,\n",
    "                                 covid_model=covid_ft,\n",
    "                                 nor_pneu_model=nor_pneu_ft,\n",
    "                                 criterion=criterion,\n",
    "                                 batch_size=batch_size,\n",
    "                                 device=device,\n",
    "                                 out_dir=out_dir,\n",
    "                                 mtype=mtype)"
   ]
  },
  {
   "cell_type": "markdown",
   "metadata": {},
   "source": [
    "## Verify prediction results"
   ]
  },
  {
   "cell_type": "code",
   "execution_count": 8,
   "metadata": {},
   "outputs": [
    {
     "output_type": "execute_result",
     "data": {
      "text/plain": [
       "        covid-mean  covid-std  normal-mean  normal-std  pneumonia-mean  \\\n",
       "(0, 0)    0.928496   0.149504     0.040154    0.136334        0.105670   \n",
       "(0, 2)    0.996965        NaN     0.235122         NaN        0.025455   \n",
       "(1, 0)    0.556875   0.402212     0.973347    0.021636        0.012013   \n",
       "(1, 1)    0.019653   0.065932     0.953397    0.087992        0.034025   \n",
       "(1, 2)    0.000008   0.000010     0.922776    0.053992        0.014983   \n",
       "(2, 0)    0.077755        NaN     0.166851         NaN        0.199409   \n",
       "(2, 1)    0.055649   0.079911     0.505253    0.239999        0.274283   \n",
       "(2, 2)    0.044035   0.143221     0.018581    0.087356        0.922603   \n",
       "\n",
       "        pneumonia-std count  \n",
       "(0, 0)       0.178705    93  \n",
       "(0, 2)            NaN     1  \n",
       "(1, 0)       0.017553     6  \n",
       "(1, 1)       0.088233    97  \n",
       "(1, 2)       0.010975     3  \n",
       "(2, 0)            NaN     1  \n",
       "(2, 1)       0.232358     3  \n",
       "(2, 2)       0.173569    96  "
      ],
      "text/html": "<div>\n<style scoped>\n    .dataframe tbody tr th:only-of-type {\n        vertical-align: middle;\n    }\n\n    .dataframe tbody tr th {\n        vertical-align: top;\n    }\n\n    .dataframe thead th {\n        text-align: right;\n    }\n</style>\n<table border=\"1\" class=\"dataframe\">\n  <thead>\n    <tr style=\"text-align: right;\">\n      <th></th>\n      <th>covid-mean</th>\n      <th>covid-std</th>\n      <th>normal-mean</th>\n      <th>normal-std</th>\n      <th>pneumonia-mean</th>\n      <th>pneumonia-std</th>\n      <th>count</th>\n    </tr>\n  </thead>\n  <tbody>\n    <tr>\n      <th>(0, 0)</th>\n      <td>0.928496</td>\n      <td>0.149504</td>\n      <td>0.040154</td>\n      <td>0.136334</td>\n      <td>0.105670</td>\n      <td>0.178705</td>\n      <td>93</td>\n    </tr>\n    <tr>\n      <th>(0, 2)</th>\n      <td>0.996965</td>\n      <td>NaN</td>\n      <td>0.235122</td>\n      <td>NaN</td>\n      <td>0.025455</td>\n      <td>NaN</td>\n      <td>1</td>\n    </tr>\n    <tr>\n      <th>(1, 0)</th>\n      <td>0.556875</td>\n      <td>0.402212</td>\n      <td>0.973347</td>\n      <td>0.021636</td>\n      <td>0.012013</td>\n      <td>0.017553</td>\n      <td>6</td>\n    </tr>\n    <tr>\n      <th>(1, 1)</th>\n      <td>0.019653</td>\n      <td>0.065932</td>\n      <td>0.953397</td>\n      <td>0.087992</td>\n      <td>0.034025</td>\n      <td>0.088233</td>\n      <td>97</td>\n    </tr>\n    <tr>\n      <th>(1, 2)</th>\n      <td>0.000008</td>\n      <td>0.000010</td>\n      <td>0.922776</td>\n      <td>0.053992</td>\n      <td>0.014983</td>\n      <td>0.010975</td>\n      <td>3</td>\n    </tr>\n    <tr>\n      <th>(2, 0)</th>\n      <td>0.077755</td>\n      <td>NaN</td>\n      <td>0.166851</td>\n      <td>NaN</td>\n      <td>0.199409</td>\n      <td>NaN</td>\n      <td>1</td>\n    </tr>\n    <tr>\n      <th>(2, 1)</th>\n      <td>0.055649</td>\n      <td>0.079911</td>\n      <td>0.505253</td>\n      <td>0.239999</td>\n      <td>0.274283</td>\n      <td>0.232358</td>\n      <td>3</td>\n    </tr>\n    <tr>\n      <th>(2, 2)</th>\n      <td>0.044035</td>\n      <td>0.143221</td>\n      <td>0.018581</td>\n      <td>0.087356</td>\n      <td>0.922603</td>\n      <td>0.173569</td>\n      <td>96</td>\n    </tr>\n  </tbody>\n</table>\n</div>"
     },
     "metadata": {},
     "execution_count": 8
    }
   ],
   "source": [
    "cases = [(i, j) for i in range(3) for j in range(3)]\n",
    "preds_cols = ('covid', 'normal', 'pneumonia')\n",
    "preds_stat_cols = ('covid-mean', 'covid-std', 'normal-mean', 'normal-std',\n",
    "                   'pneumonia-mean', 'pneumonia-std', 'count')\n",
    "\n",
    "preds_dfs = []\n",
    "preds_stat_df = pd.DataFrame([], columns=preds_stat_cols)\n",
    "for case in cases:\n",
    "    preds_df = pd.DataFrame(preds_dict[case], columns=preds_cols)\n",
    "\n",
    "    preds_stat = []\n",
    "    for preds_col in preds_cols:\n",
    "        preds_stat.extend((preds_df[preds_col].mean(), preds_df[preds_col].std()))\n",
    "    preds_stat.append(preds_df[preds_col].shape[0])\n",
    "\n",
    "    if np.nan not in preds_stat:\n",
    "        preds_stat_df = preds_stat_df.append(pd.DataFrame([preds_stat], columns=preds_stat_cols, index=(str(case),)))\n",
    "    \n",
    "preds_stat_df"
   ]
  }
 ],
 "metadata": {
  "kernelspec": {
   "name": "python379jvsc74a57bd0d3acb0562c68345cb9a4a86bfb748e0443e62343e02c94a7f79b6c1904f54bbb",
   "display_name": "Python 3.7.9 64-bit ('avidnet': conda)"
  },
  "language_info": {
   "codemirror_mode": {
    "name": "ipython",
    "version": 3
   },
   "file_extension": ".py",
   "mimetype": "text/x-python",
   "name": "python",
   "nbconvert_exporter": "python",
   "pygments_lexer": "ipython3",
   "version": "3.7.9-final"
  },
  "metadata": {
   "interpreter": {
    "hash": "d3acb0562c68345cb9a4a86bfb748e0443e62343e02c94a7f79b6c1904f54bbb"
   }
  }
 },
 "nbformat": 4,
 "nbformat_minor": 4
}